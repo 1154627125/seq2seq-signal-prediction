{
 "cells": [
  {
   "cell_type": "markdown",
   "metadata": {},
   "source": [
    "# Install Packages "
   ]
  },
  {
   "cell_type": "code",
   "execution_count": null,
   "metadata": {},
   "outputs": [],
   "source": [
    "import numpy as np\n",
    "import tensorflow as tf\n",
    "\n",
    "from neuraxle.hyperparams.space import HyperparameterSamples\n",
    "from neuraxle.pipeline import MiniBatchSequentialPipeline, Pipeline, Joiner\n",
    "from neuraxle.steps.data import EpochRepeater\n",
    "\n",
    "from neuraxle_tensorflow.tensorflow_v1 import TensorflowV1ModelStep\n",
    "from seq2seq import generate_x_y_data\n",
    "\n",
    "# Backward compatibility for TensorFlow's version 0.12:\n",
    "try:\n",
    "    tf.nn.seq2seq = tf.contrib.legacy_seq2seq\n",
    "    tf.nn.rnn_cell = tf.contrib.rnn\n",
    "    tf.nn.rnn_cell.GRUCell = tf.contrib.rnn.GRUCell\n",
    "    print(\"TensorFlow's version : 1.0 (or more)\")\n",
    "except:\n",
    "    print(\"TensorFlow's version : 0.12\")"
   ]
  },
  {
   "cell_type": "markdown",
   "metadata": {},
   "source": [
    "# Create Graph"
   ]
  },
  {
   "cell_type": "code",
   "execution_count": null,
   "metadata": {},
   "outputs": [],
   "source": [
    "def create_graph(step: TensorflowV1ModelStep):\n",
    "    # Encoder: inputs\n",
    "    encoder_inputs = [\n",
    "        tf.placeholder(tf.float32, shape=(None, step.hyperparams['input_dim']), name=\"inp_{}\".format(t))\n",
    "        for t in range(step.hyperparams['seq_length'])\n",
    "    ]\n",
    "\n",
    "    # Decoder: expected outputs\n",
    "    expected_sparse_output = [\n",
    "        tf.placeholder(tf.float32, shape=(None, step.hyperparams['output_dim']),\n",
    "                       name=\"expected_sparse_output_\".format(t))\n",
    "        for t in range(step.hyperparams['seq_length'])\n",
    "    ]\n",
    "\n",
    "    # Give a \"GO\" token to the decoder.\n",
    "    # Note: we might want to fill the encoder with zeros or its own feedback rather than with \"+ encoder_inputs[:-1]\"\n",
    "    dec_inp = [tf.zeros_like(encoder_inputs[0], dtype=np.float32, name=\"GO\")] + encoder_inputs[:-1]\n",
    "\n",
    "    # Create a `layers_stacked_count` of stacked RNNs (GRU cells here).\n",
    "    cells = []\n",
    "    for i in range(step.hyperparams['layers_stacked_count']):\n",
    "        with tf.variable_scope('RNN_{}'.format(i)):\n",
    "            cells.append(tf.nn.rnn_cell.GRUCell(step.hyperparams['hidden_dim']))\n",
    "    cell = tf.nn.rnn_cell.MultiRNNCell(cells)\n",
    "\n",
    "    # Here, the encoder and the decoder uses the same cell, HOWEVER,\n",
    "    # the weights aren't shared among the encoder and decoder, we have two\n",
    "    # sets of weights created under the hood according to that function's def.\n",
    "    dec_outputs, dec_memory = tf.nn.seq2seq.basic_rnn_seq2seq(\n",
    "        encoder_inputs,\n",
    "        dec_inp,\n",
    "        cell\n",
    "    )\n",
    "\n",
    "    # For reshaping the output dimensions of the seq2seq RNN:\n",
    "    w_out = tf.Variable(tf.random_normal([step.hyperparams['hidden_dim'], step.hyperparams['output_dim']]),\n",
    "                        name='w_out')\n",
    "    b_out = tf.Variable(tf.random_normal([step.hyperparams['output_dim']]), name='b_out')\n",
    "\n",
    "    # Final outputs: with linear rescaling for enabling possibly large and unrestricted output values.\n",
    "    tf.Variable(1.0, name=\"output_scalefactor\")\n",
    "    return tf.Variable(\n",
    "        [step['output_scalefactor'] * (tf.matmul(i, step['w_out']) + step['b_out']) for i in dec_outputs])"
   ]
  },
  {
   "cell_type": "markdown",
   "metadata": {},
   "source": [
    "# Create Loss"
   ]
  },
  {
   "cell_type": "code",
   "execution_count": null,
   "metadata": {},
   "outputs": [],
   "source": [
    "def create_loss(step: TensorflowV1ModelStep):\n",
    "    # Loss, optimizer and evaluation\n",
    "    # L2 loss prevents this overkill neural network to overfit the data\n",
    "    l2 = step.hyperparams['lambda_loss_amount'] * sum(tf.nn.l2_loss(tf_var) for tf_var in tf.trainable_variables())\n",
    "    return tf.reduce_mean(tf.nn.l2_loss(step['output'])) + l2"
   ]
  },
  {
   "cell_type": "markdown",
   "metadata": {},
   "source": [
    "# Create Optimizer"
   ]
  },
  {
   "cell_type": "code",
   "execution_count": null,
   "metadata": {},
   "outputs": [],
   "source": [
    "def create_optimizer(step: TensorflowV1ModelStep):\n",
    "    return tf.train.RMSPropOptimizer(\n",
    "        learning_rate=step.hyperparams['learning_rate'],\n",
    "        decay=step.hyperparams['lr_decay'],\n",
    "        momentum=step.hyperparams['momentum']\n",
    "    )"
   ]
  },
  {
   "cell_type": "markdown",
   "metadata": {},
   "source": [
    "# Load Data"
   ]
  },
  {
   "cell_type": "code",
   "execution_count": null,
   "metadata": {},
   "outputs": [],
   "source": [
    "EPOCHS = 150\n",
    "BATCH_SIZE = 5\n",
    "\n",
    "sample_x, sample_y = generate_x_y_data(isTrain=True, batch_size=BATCH_SIZE)\n",
    "seq_length = sample_x.shape[0]\n",
    "output_dim = input_dim = sample_x.shape[-1]\n",
    "\n",
    "X, Y = generate_x_y_data(isTrain=True, batch_size=BATCH_SIZE)\n",
    "pipeline, outputs = pipeline.fit_transform(data_inputs=X, expected_outputs=Y)"
   ]
  },
  {
   "cell_type": "markdown",
   "metadata": {},
   "source": [
    "# Create Model Step"
   ]
  },
  {
   "cell_type": "code",
   "execution_count": null,
   "metadata": {},
   "outputs": [],
   "source": [
    "model_step = TensorflowV1ModelStep(\n",
    "    create_graph=create_graph,\n",
    "    create_loss=create_loss,\n",
    "    create_optimizer=create_optimizer,\n",
    ").set_hyperparams(HyperparameterSamples({\n",
    "    'seq_length': seq_length,\n",
    "    'hidden_dim': 12,\n",
    "    'layers_stacked_count': 2,\n",
    "    'learning_rate': 0.007,\n",
    "    'lr_decay': 0.92,\n",
    "    'momentum': 0.5,\n",
    "    'lambda_l2_reg': 0.003\n",
    "}))"
   ]
  },
  {
   "cell_type": "markdown",
   "metadata": {},
   "source": [
    "# Create Pipeline"
   ]
  },
  {
   "cell_type": "code",
   "execution_count": null,
   "metadata": {},
   "outputs": [],
   "source": [
    "pipeline = Pipeline([\n",
    "    EpochRepeater(\n",
    "        MiniBatchSequentialPipeline([\n",
    "            model_step, \n",
    "            Joiner(batch_size=BATCH_SIZE)\n",
    "        ]),\n",
    "        epochs=EPOCHS\n",
    "    )\n",
    "])"
   ]
  },
  {
   "cell_type": "markdown",
   "metadata": {},
   "source": [
    "# Train"
   ]
  },
  {
   "cell_type": "code",
   "execution_count": null,
   "metadata": {},
   "outputs": [],
   "source": [
    "pipeline, outputs = pipeline.fit_transform(data_inputs=X, expected_outputs=Y)"
   ]
  }
 ],
 "metadata": {
  "kernelspec": {
   "display_name": "seq2seq",
   "language": "python",
   "name": "seq2seq"
  },
  "language_info": {
   "codemirror_mode": {
    "name": "ipython",
    "version": 3
   },
   "file_extension": ".py",
   "mimetype": "text/x-python",
   "name": "python",
   "nbconvert_exporter": "python",
   "pygments_lexer": "ipython3",
   "version": "3.6.8"
  }
 },
 "nbformat": 4,
 "nbformat_minor": 4
}
