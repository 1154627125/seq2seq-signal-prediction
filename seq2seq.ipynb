{
 "cells": [
  {
   "cell_type": "markdown",
   "metadata": {},
   "source": [
    "# [Sequence to Sequence (seq2seq) Recurrent Neural Network (RNN) for Time Series Forecasting](https://github.com/guillaume-chevalier/seq2seq-signal-prediction)\n",
    "\n",
    "This is a series of exercises that you can try to solve to learn how to code Encoder-Decoder Sequence to Sequence Recurrent Neural Networks (seq2seq RNNs). You can solve different simple toy signal prediction problems. Seq2seq architectures may also be used for other sophisticated purposes, such as for Natural Language Processing (NLP). \n",
    "\n",
    "In this project are given 4 exercises of gradually increasing difficulty. I take for granted that you have at least some knowledge of how RNN works and how can they be shaped into an encoder and a decoder seq2seq setup of the most simple form (without attention). To learn more about RNNs in TensorFlow, you may want to visit [this other RNN project](https://github.com/guillaume-chevalier/LSTM-Human-Activity-Recognition) which I have built for that.\n",
    "\n",
    "The current project is a series of example I have first built in French, but I haven't got the time to generate all the charts anew with proper English text. I have built this project for the practical part of the third hour of a master class conference that I gave at the WAQ (Web At Quebec) in March 2017: \n",
    "https://webaquebec.org/classes-de-maitre/deep-learning-avec-tensorflow\n",
    "\n",
    "You can find the French, original, version of this project in the French Git branch: https://github.com/guillaume-chevalier/seq2seq-signal-prediction/tree/francais\n",
    "\n",
    "## How to use this \".ipynb\" Python notebook ?\n",
    "\n",
    "Except the fact I made available an \".py\" Python version of this tutorial within the repository, it is more convenient to run the code inside the notebook. The \".py\" code exported feels a bit raw as an exportation. \n",
    "\n",
    "To run the notebook, you must have installed Jupyter Notebook or iPython Notebook. To open the notebook, you must write `jupyter notebook` or `iPython notebook` in command line (from the folder containing the notebook once downloaded, or a parent folder). It is then that the notebook application (IDE) will open in your browser as a local server and it will be possible to open the `.ipynb` notebook file and to run code cells with `CTRL+ENTER` and `SHIFT+ENTER`, it is also possible to restart the kernel and run all cells at once with the menus. Note that this is interesting since it is possible to make that IDE run as hosted on a cloud server with a lot of GPU power while you code through the browser.\n",
    "\n",
    "## Exercises\n",
    "\n",
    "Note that the dataset changes in function of the exercice. Most of the time, you will have to edit the neural networks' training parameter to succeed in doing the exercise, but at a certain point, changes in the architecture itself will be asked and required. The datasets used for this exercises are found in `datasets.py`.\n",
    "\n",
    "### Exercise 1\n",
    "\n",
    "In theory, it is possible to create a perfect prediction of the signal for this exercise. The neural network's parameters has been set to acceptable values for a first training, so you may pass this exercise by running the code without even a change. Your first training might get predictions like that (in yellow), but it is possible to do a lot better with proper parameters adjustments:\n",
    "\n",
    "<img src=\"images/E1.png\" />\n",
    "\n",
    "Note: the neural network sees only what is to the left of the chart and is trained to predict what is at the right (predictions in yellow). \n",
    "\n",
    "We have 2 time series at once to predict, which are tied together. That means our neural network processes multidimensional data. A simple example would be to receive as an argument the past values of multiple stock market symbols in order to predict the future values of all those symbols with the neural network, which values are evolving together in time. That is what we will do in the exercise 6. \n",
    "\n",
    "\n",
    "### Exercise 2\n",
    "\n",
    "Here, rather than 2 signals in parallel to predict, we have only one, for simplicity. HOWEVER, this signal is a superposition of two sine waves of varying wavelenght and offset (and restricted to a particular min and max limit of wavelengts). \n",
    "\n",
    "In order to finish this exercise properly, you will need to edit the neural network's hyperparameters. As an example, here is what is possible to achieve as a predction with those better (but still unperfect) training hyperparameters: \n",
    "\n",
    "- `nb_iters = 2500`\n",
    "- `batch_size = 50`\n",
    "- `hidden_dim = 35`\n",
    "<img src=\"images/E2.png\" />\n",
    "\n",
    "Here are predictions achieved with a bigger neural networks with 3 stacked recurrent cells and a width of 500 hidden units for each of those cells: \n",
    "\n",
    "<img src=\"images/E2_1.png\" />\n",
    "\n",
    "<img src=\"images/E2_2.png\" />\n",
    "\n",
    "<img src=\"images/E2_3.png\" />\n",
    "\n",
    "<img src=\"images/E2_4.png\" />\n",
    "\n",
    "Note that it would be possible to obtain better results with a smaller neural network, provided better training hyperparameters and a longer training, adding dropout, and on. \n",
    "\n",
    "### Exercise 3\n",
    "\n",
    "This exercise is similar to the previous one, except that the input data given to the encoder is noisy. The expected output is not noisy. This makes the task a bit harder. Here is a good example of what a training example (and a prediction) could now looks like :\n",
    "\n",
    "<img src=\"images/E3.png\" />\n",
    "\n",
    "Therefore the neural network is brought to denoise the signal to interpret its future smooth values. Here are some example of better predictions on this version of the dataset : \n",
    "\n",
    "<img src=\"images/E3_1.png\" />\n",
    "\n",
    "<img src=\"images/E3_2.png\" />\n",
    "\n",
    "<img src=\"images/E3_3.png\" />\n",
    "\n",
    "<img src=\"images/E3_4.png\" />\n",
    "\n",
    "Similarly as I said for the exercise 2, it would be possible here too to obtain better results. Note that it would also have been possible to ask you to predict to reconstruct the denoised signal from the noisy input (and not predict the future values of it). This would have been called a \"denoising autoencoder\", this type of architecture is also useful for data compression, such as manipulating images. \n",
    "\n",
    "### Exercise 4\n",
    "\n",
    "This exercise is much harder than the previous ones and is built more as a suggestion. It is to predict the future value of the Bitcoin's price. We have here some daily market data of the bitcoin's value, that is, BTC/USD and BTC/EUR. This is not enough to build a good predictor, at least having data precise at the minute level, or second level, would be more interesting. Here is a prediction made on the actual future values, the neural network has not been trained on the future values shown here and this is a legitimate prediction, given a well-enough model trained on the task: \n",
    "\n",
    "<img src=\"images/E5.png\" />\n",
    "\n",
    "Disclaimer: this prediction of the future values was really good and you should not expect predictions to be always that good using as few data as actually (side note: the other prediction charts in this project are all \"average\" except this one). Your task for this exercise is to plug the model on more valuable financial data in order to make more accurate predictions. Let me remind you that I provided the code for the datasets in \"datasets.py\", but that should be replaced for predicting accurately the Bitcoin. \n",
    "\n",
    "It would be possible to improve the input dimensions of your model that accepts (BTC/USD and BTC/EUR). As an example, you could create additionnal input dimensions/streams which could contain meteo data and more financial data, such as the S&P 500, the Dow Jones, and on. Other more creative input data could be sine waves (or other-type-shaped waves such as saw waves or triangles or two signals for `cos` and `sin`) representing the fluctuation of minutes, hours, days, weeks, months, years, moon cycles, and on. This could be combined with a Twitter sentiment analysis about the word \"Bitcoin\" in tweets in order to have another input signal which is more human-based and abstract. Actually, some libraries exists to convert text to a sentiment value, and there would also be the neural network end-to-end approach (but that would be a way more complicated setup). It is also interesting to know where is the bitcoin most used: http://images.google.com/search?tbm=isch&q=bitcoin+heatmap+world\n",
    "\n",
    "With all the above-mentionned examples, it would be possible to have all of this as input features, at every time steps: (BTC/USD, BTC/EUR, Dow_Jones, SP_500, hours, days, weeks, months, years, moons, meteo_USA, meteo_EUROPE, Twitter_sentiment). Finally, there could be those two output features, or more: (BTC/USD, BTC/EUR). \n",
    "\n",
    "This prediction concept can apply to many things, such as meteo prediction and other types of shot-term and mid-term statistical predictions. "
   ]
  },
  {
   "cell_type": "markdown",
   "metadata": {},
   "source": [
    "\n",
    "## Definition of the neural architecture\n",
    "\n",
    "### Basic Sequence To Sequence\n",
    "\n",
    "<img src=\"https://www.tensorflow.org/images/basic_seq2seq.png\" />\n",
    "\n",
    "### Our architecture\n",
    "\n",
    "<img src=\"https://www.tensorflow.org/images/basic_seq2seq.png\" />"
   ]
  },
  {
   "cell_type": "markdown",
   "metadata": {},
   "source": [
    "## Install Requirements"
   ]
  },
  {
   "cell_type": "code",
   "execution_count": null,
   "metadata": {},
   "outputs": [],
   "source": [
    "from typing import List\n",
    "\n",
    "import tensorflow as tf\n",
    "from neuraxle.data_container import DataContainer\n",
    "from neuraxle.hyperparams.space import HyperparameterSamples\n",
    "from neuraxle.metaopt.random import ValidationSplitWrapper\n",
    "from neuraxle.metrics import MetricsWrapper\n",
    "from neuraxle.pipeline import Pipeline, MiniBatchSequentialPipeline\n",
    "from neuraxle.steps.data import EpochRepeater, DataShuffler\n",
    "from neuraxle.steps.flow import TrainOnlyWrapper\n",
    "from neuraxle.steps.loop import ForEachDataInput\n",
    "from sklearn.metrics import mean_squared_error\n",
    "from tensorflow_core.python.client import device_lib\n",
    "from tensorflow_core.python.keras import Input, Model\n",
    "from tensorflow_core.python.keras.layers import GRUCell, RNN, Dense\n",
    "from tensorflow_core.python.training.adam import AdamOptimizer\n",
    "\n",
    "from datasets import generate_data\n",
    "from datasets import metric_3d_to_2d_wrapper\n",
    "from neuraxle_tensorflow.tensorflow_v1 import TensorflowV1ModelStep\n",
    "from neuraxle_tensorflow.tensorflow_v2 import Tensorflow2ModelStep\n",
    "from plotting import plot_metrics\n",
    "from steps import MeanStdNormalizer, ToNumpy, PlotPredictionsWrapper\n",
    "\n",
    "tf.debugging.set_log_device_placement(True)\n",
    "print('You can use the following tf devices: {}'.format([x.name for x in device_lib.list_local_devices()]))"
   ]
  },
  {
   "cell_type": "markdown",
   "metadata": {},
   "source": [
    "## Create Tensorflow 2 Model"
   ]
  },
  {
   "cell_type": "code",
   "execution_count": null,
   "metadata": {},
   "outputs": [],
   "source": [
    "def create_model(step: Tensorflow2ModelStep) -> tf.keras.Model:\n",
    "    \"\"\"\n",
    "   Create a TensorFlow v2 sequence to sequence (seq2seq) encoder-decoder model.\n",
    "\n",
    "   :param step: The base Neuraxle step for TensorFlow v2 (Tensorflow2ModelStep)\n",
    "   :return: TensorFlow v2 Keras model\n",
    "    \"\"\"\n",
    "    # shape: (batch_size, seq_length, input_dim)\n",
    "    encoder_inputs = Input(\n",
    "        shape=(None, step.hyperparams['input_dim']),\n",
    "        batch_size=None,\n",
    "        dtype=tf.dtypes.float32,\n",
    "        name='encoder_inputs'\n",
    "    )\n",
    "\n",
    "    last_encoder_outputs, last_encoders_states = _create_encoder(step, encoder_inputs)\n",
    "    decoder_outputs = _create_decoder(step, last_encoder_outputs, last_encoders_states)\n",
    "\n",
    "    return Model(encoder_inputs, decoder_outputs)\n",
    "\n",
    "def _create_encoder(step: Tensorflow2ModelStep, encoder_inputs: Input) -> (tf.Tensor, List[tf.Tensor]):\n",
    "    \"\"\"\n",
    "   Create an encoder RNN using GRU Cells. GRU cells are similar to LSTM cells.\n",
    "\n",
    "   :param step: The base Neuraxle step for TensorFlow v2 (class Tensorflow2ModelStep)\n",
    "    :param encoder_inputs: encoder inputs layer of shape (batch_size, seq_length, input_dim)\n",
    "    :return: (last encoder outputs, last stacked encoders states)\n",
    "                last_encoder_outputs shape: (batch_size, hidden_dim)\n",
    "                last_encoder_states shape: (layers_stacked_count, batch_size, hidden_dim)\n",
    "    \"\"\"\n",
    "    encoder = RNN(cell=_create_stacked_rnn_cells(step), return_sequences=False, return_state=True)\n",
    "\n",
    "    last_encoder_outputs_and_states = encoder(encoder_inputs)\n",
    "    # last_encoder_outputs shape: (batch_size, hidden_dim)\n",
    "    # last_encoder_states shape: (layers_stacked_count, batch_size, hidden_dim)\n",
    "\n",
    "    # refer to: https://www.tensorflow.org/api_docs/python/tf/keras/layers/RNN?version=stable#output_shape_2\n",
    "    last_encoder_outputs, *last_encoders_states = last_encoder_outputs_and_states\n",
    "    return last_encoder_outputs, last_encoders_states\n",
    "\n",
    "def _create_decoder(step: Tensorflow2ModelStep, last_encoder_outputs: tf.Tensor, last_encoders_states: List[tf.Tensor]) -> tf.Tensor:\n",
    "    \"\"\"\n",
    "   Create a decoder RNN using GRU cells.\n",
    "\n",
    "   :param step: The base Neuraxle step for TensorFlow v2 (Tensorflow2ModelStep)\n",
    "    :param last_encoders_states: last encoder states tensor\n",
    "    :param last_encoder_outputs: last encoder output tensor\n",
    "    :return: decoder output\n",
    "    \"\"\"\n",
    "    decoder_lstm = RNN(cell=_create_stacked_rnn_cells(step), return_sequences=True, return_state=False)\n",
    "\n",
    "    last_encoder_output = tf.expand_dims(last_encoder_outputs, axis=1)\n",
    "    # last encoder output shape: (batch_size, 1, hidden_dim)\n",
    "\n",
    "    replicated_last_encoder_output = tf.repeat(\n",
    "        input=last_encoder_output,\n",
    "        repeats=step.hyperparams['window_size_future'],\n",
    "        axis=1\n",
    "    )\n",
    "    # replicated last encoder output shape: (batch_size, window_size_future, hidden_dim)\n",
    "\n",
    "    decoder_outputs = decoder_lstm(replicated_last_encoder_output, initial_state=last_encoders_states)\n",
    "    # decoder outputs shape: (batch_size, window_size_future, hidden_dim)\n",
    "\n",
    "    decoder_dense = Dense(step.hyperparams['output_dim'])\n",
    "    # decoder outputs shape: (batch_size, window_size_future, output_dim)\n",
    "\n",
    "    return decoder_dense(decoder_outputs)\n",
    "\n",
    "def _create_stacked_rnn_cells(step: Tensorflow2ModelStep) -> List[GRUCell]:\n",
    "    \"\"\"\n",
    "   Create a `layers_stacked_count` amount of GRU cells and stack them on top of each other.\n",
    "   They have a `hidden_dim` number of neuron layer size.\n",
    "\n",
    "   :param step: The base Neuraxle step for TensorFlow v2 (Tensorflow2ModelStep)\n",
    "    :return: list of gru cells\n",
    "    \"\"\"\n",
    "    cells = []\n",
    "    for _ in range(step.hyperparams['layers_stacked_count']):\n",
    "        cells.append(GRUCell(step.hyperparams['hidden_dim']))\n",
    "\n",
    "    return cells"
   ]
  },
  {
   "cell_type": "markdown",
   "metadata": {},
   "source": [
    "## Create Loss"
   ]
  },
  {
   "cell_type": "code",
   "execution_count": null,
   "metadata": {},
   "outputs": [],
   "source": [
    "def create_loss(step: Tensorflow2ModelStep, expected_outputs: tf.Tensor, predicted_outputs: tf.Tensor) -> tf.Tensor:\n",
    "    \"\"\"\n",
    "    Create model loss.\n",
    "\n",
    "   :param step: The base Neuraxle step for TensorFlow v2 (Tensorflow2ModelStep)\n",
    "   :param expected_outputs: expected outputs of shape (batch_size, window_size_future, output_dim)\n",
    "   :param predicted_outputs: expected outputs of shape (batch_size, window_size_future, output_dim)\n",
    "   :return: loss (a tf Tensor that is a float)\n",
    "    \"\"\"\n",
    "    l2 = step.hyperparams['lambda_loss_amount'] * sum(\n",
    "        tf.reduce_mean(tf.nn.l2_loss(tf_var))\n",
    "        for tf_var in step.model.trainable_variables\n",
    "    )\n",
    "\n",
    "    output_loss = sum(\n",
    "        tf.reduce_mean(tf.nn.l2_loss(pred - expected))\n",
    "        for pred, expected in zip(predicted_outputs, expected_outputs)\n",
    "    ) / float(len(predicted_outputs))\n",
    "\n",
    "    return output_loss + l2"
   ]
  },
  {
   "cell_type": "markdown",
   "metadata": {},
   "source": [
    "## Create Optimizer"
   ]
  },
  {
   "cell_type": "code",
   "execution_count": null,
   "metadata": {},
   "outputs": [],
   "source": [
    "def create_optimizer(step: TensorflowV1ModelStep) -> AdamOptimizer:\n",
    "    \"\"\"\n",
    "   Create a TensorFlow 2 Optimizer: here the AdamOptimizer.\n",
    "\n",
    "   :param step: The base Neuraxle step for TensorFlow v2 (Tensorflow2ModelStep)\n",
    "    :return: optimizer\n",
    "    \"\"\"\n",
    "    return AdamOptimizer(learning_rate=step.hyperparams['learning_rate'])"
   ]
  },
  {
   "cell_type": "markdown",
   "metadata": {},
   "source": [
    "## Generate data\n",
    "\n",
    "To change which exercise you are doing, change the value of the following \"exercise_number\" variable:"
   ]
  },
  {
   "cell_type": "code",
   "execution_count": null,
   "metadata": {},
   "outputs": [],
   "source": [
    "exercice_number = 1\n",
    "print('exercice {}\\n=================='.format(exercice_number))\n",
    "\n",
    "data_inputs, expected_outputs = generate_data(\n",
    "    # See: https://github.com/guillaume-chevalier/seq2seq-signal-prediction/blob/master/datasets.py\n",
    "    exercice_number=exercice_number,\n",
    "    n_samples=None,\n",
    "    window_size_past=None,\n",
    "    window_size_future=None\n",
    ")\n",
    "\n",
    "print('data_inputs shape: {} => (n_samples, window_size_past, input_dim)'.format(data_inputs.shape))\n",
    "print('expected_outputs shape: {} => (n_samples, window_size_future, output_dim)'.format(expected_outputs.shape))\n",
    "\n",
    "sequence_length = data_inputs.shape[1]\n",
    "input_dim = data_inputs.shape[2]\n",
    "output_dim = expected_outputs.shape[2]\n",
    "\n",
    "batch_size = 100\n",
    "epochs = 15\n",
    "validation_size = 0.15\n",
    "max_plotted_validation_predictions = 10"
   ]
  },
  {
   "cell_type": "markdown",
   "metadata": {},
   "source": [
    "## Neural Network's hyperparameters"
   ]
  },
  {
   "cell_type": "code",
   "execution_count": null,
   "metadata": {},
   "outputs": [],
   "source": [
    "seq2seq_pipeline_hyperparams = HyperparameterSamples({\n",
    "    'hidden_dim': 12,\n",
    "    'layers_stacked_count': 2,\n",
    "    'lambda_loss_amount': 0.0003,\n",
    "    'learning_rate': 0.001,\n",
    "    'window_size_future': sequence_length,\n",
    "    'output_dim': output_dim,\n",
    "    'input_dim': input_dim\n",
    "})\n",
    "\n",
    "print('hyperparams: {}'.format(seq2seq_pipeline_hyperparams))"
   ]
  },
  {
   "cell_type": "markdown",
   "metadata": {},
   "source": [
    "## Build the pipeline"
   ]
  },
  {
   "cell_type": "code",
   "execution_count": null,
   "metadata": {},
   "outputs": [],
   "source": [
    "feature_0_metric = metric_3d_to_2d_wrapper(mean_squared_error)\n",
    "metrics = {'mse': feature_0_metric}\n",
    "\n",
    "signal_prediction_pipeline = Pipeline([\n",
    "    ForEachDataInput(MeanStdNormalizer()),\n",
    "    ToNumpy(),\n",
    "    PlotPredictionsWrapper(Tensorflow2ModelStep(\n",
    "        # See: https://github.com/Neuraxio/Neuraxle-TensorFlow\n",
    "        create_model=create_model,\n",
    "        create_loss=create_loss,\n",
    "        create_optimizer=create_optimizer,\n",
    "        expected_outputs_dtype=tf.dtypes.float32,\n",
    "        data_inputs_dtype=tf.dtypes.float32,\n",
    "        print_loss=False\n",
    ").set_hyperparams(seq2seq_pipeline_hyperparams))]).set_name('SignalPrediction')\n",
    "\n",
    "pipeline = Pipeline([EpochRepeater(\n",
    "    ValidationSplitWrapper(\n",
    "        MetricsWrapper(Pipeline([\n",
    "            TrainOnlyWrapper(DataShuffler()),\n",
    "            MiniBatchSequentialPipeline([\n",
    "                MetricsWrapper(\n",
    "                    signal_prediction_pipeline,\n",
    "                    metrics=metrics,\n",
    "                    name='batch_metrics'\n",
    "                )], batch_size=batch_size)\n",
    "            ]), \n",
    "            metrics=metrics,\n",
    "            name='epoch_metrics',\n",
    "            print_metrics=True\n",
    "        ),\n",
    "        test_size=validation_size,\n",
    "        scoring_function=feature_0_metric), \n",
    "    epochs=epochs)\n",
    "])\n"
   ]
  },
  {
   "cell_type": "markdown",
   "metadata": {},
   "source": [
    "## Training of the neural net"
   ]
  },
  {
   "cell_type": "code",
   "execution_count": null,
   "metadata": {},
   "outputs": [],
   "source": [
    "pipeline, outputs = pipeline.fit_transform(data_inputs, expected_outputs)"
   ]
  },
  {
   "cell_type": "markdown",
   "metadata": {},
   "source": [
    "## Visualize Test Predictions"
   ]
  },
  {
   "cell_type": "code",
   "execution_count": null,
   "metadata": {},
   "outputs": [],
   "source": [
    "plot_metrics(pipeline=pipeline, exercice_number=exercice_number)\n",
    "plot_predictions(data_inputs, expected_outputs, pipeline, max_plotted_validation_predictions)\n",
    "_, _, data_inputs_validation, expected_outputs_validation = \\\n",
    "pipeline.get_step_by_name('ValidationSplitWrapper').split(data_inputs, expected_outputs)\n",
    "\n",
    "pipeline.apply('toggle_plotting')\n",
    "pipeline.apply('set_max_plotted_predictions', max_plotted_predictions)\n",
    "\n",
    "signal_prediction_pipeline = pipeline.get_step_by_name('SignalPrediction')\n",
    "signal_prediction_pipeline.transform_data_container(DataContainer(\n",
    "    data_inputs=data_inputs_validation,\n",
    "    expected_outputs=expected_outputs_validation\n",
    "))"
   ]
  },
  {
   "cell_type": "markdown",
   "metadata": {},
   "source": [
    "## Author\n",
    "\n",
    "Guillaume Chevalier\n",
    "- https://ca.linkedin.com/in/chevalierg\n",
    "- https://twitter.com/guillaume_che\n",
    "- https://github.com/guillaume-chevalier/\n",
    "\n",
    "## License\n",
    "\n",
    "This project is free to use according to the [MIT License](https://github.com/guillaume-chevalier/seq2seq-signal-prediction/blob/master/LICENSE) as long as you cite me and the License (read the License for more details). You can cite me by pointing to the following link: \n",
    "- https://github.com/guillaume-chevalier/seq2seq-signal-prediction\n",
    "\n",
    "## Converting notebook to a readme file"
   ]
  },
  {
   "cell_type": "code",
   "execution_count": 10,
   "metadata": {},
   "outputs": [
    {
     "name": "stdout",
     "output_type": "stream",
     "text": [
      "[NbConvertApp] Converting notebook seq2seq.ipynb to markdown\n",
      "[NbConvertApp] Support files will be in seq2seq_files/\n",
      "[NbConvertApp] Making directory seq2seq_files\n",
      "[NbConvertApp] Making directory seq2seq_files\n",
      "[NbConvertApp] Making directory seq2seq_files\n",
      "[NbConvertApp] Making directory seq2seq_files\n",
      "[NbConvertApp] Making directory seq2seq_files\n",
      "[NbConvertApp] Making directory seq2seq_files\n",
      "[NbConvertApp] Writing 21717 bytes to seq2seq.md\n"
     ]
    }
   ],
   "source": [
    "# Let's convert this notebook to a README for the GitHub project's title page:\n",
    "!jupyter nbconvert --to markdown seq2seq.ipynb\n",
    "!mv seq2seq.md README.md"
   ]
  }
 ],
 "metadata": {
  "hide_input": false,
  "kernelspec": {
   "display_name": "Python 3",
   "language": "python",
   "name": "python3"
  },
  "language_info": {
   "codemirror_mode": {
    "name": "ipython",
    "version": 3
   },
   "file_extension": ".py",
   "mimetype": "text/x-python",
   "name": "python",
   "nbconvert_exporter": "python",
   "pygments_lexer": "ipython3",
   "version": "3.6.8"
  }
 },
 "nbformat": 4,
 "nbformat_minor": 2
}
