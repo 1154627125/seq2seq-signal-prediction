{
 "cells": [
  {
   "cell_type": "markdown",
   "metadata": {},
   "source": [
    "# Entraînement d'un réseau seq2seq sur des séries temporelles\n",
    "\n",
    "L'exercice est d'abord d'entraîner un tel réseau sur un tout petit dataset d'un signal sinusoidal, puis de tenter de prédire des signaux de plus en plus complexes. \n",
    "\n",
    "**Pour décider de l'exercice à faire, changer la valeur `exercice` suivante:**\n"
   ]
  },
  {
   "cell_type": "code",
   "execution_count": 1,
   "metadata": {
    "collapsed": true
   },
   "outputs": [],
   "source": [
    "# Valeurs possibles : 1, 2, ou 3. \n",
    "exercice = 1\n",
    "\n",
    "# En théorie, pour l'exercice 1 et 2, il est possible de créer une ligne vraiment presque parfaite. \n",
    "# Pour l'exercice 3, le problème est beaucoup plus difficile. "
   ]
  },
  {
   "cell_type": "markdown",
   "metadata": {},
   "source": [
    "Je recommande de commencer par l'exercice 1 et d'y aller graduellement. Dans chaque cas, nous avons plusieurs séries temporelles différentes en parallèle à prédire: notre réseau de neurones est multidimensionnel car il prédit plusieurs séries à la fois. "
   ]
  },
  {
   "cell_type": "code",
   "execution_count": 2,
   "metadata": {
    "collapsed": true
   },
   "outputs": [],
   "source": [
    "import tensorflow as tf\n",
    "\n",
    "import numpy as np\n",
    "import matplotlib.pyplot as plt\n",
    "%matplotlib inline\n",
    "\n",
    "import tempfile\n",
    "import math\n"
   ]
  },
  {
   "cell_type": "code",
   "execution_count": 3,
   "metadata": {
    "collapsed": true
   },
   "outputs": [],
   "source": [
    "\n",
    "# Neural net's parameters\n",
    "seq_length = 15  # Inputs and outputs are sequences of same lenght\n",
    "batch_size = 1  # Keeping it simple for now\n",
    "\n",
    "# Each unit in the sequence is a float32 vector of lenght 10:\n",
    "# Same dimension sizes just for simplicity now\n",
    "output_dim = hidden_dim = input_dim = 10\n",
    "layers_stacked_count = 2\n",
    "\n",
    "# Optmizer: \n",
    "learning_rate = 0.007  # Small lr to avoid problem\n",
    "nb_iters = 300  # Crank up the iters in consequence\n",
    "lr_decay = 0.92  # 0.9 default\n",
    "momentum = 0.5  # 0.0 default\n",
    "lambda_l2_reg = 0.003\n"
   ]
  },
  {
   "cell_type": "code",
   "execution_count": 4,
   "metadata": {
    "collapsed": false
   },
   "outputs": [],
   "source": [
    "\n",
    "tf.reset_default_graph()\n",
    "# sess.close()\n",
    "sess = tf.InteractiveSession()\n"
   ]
  },
  {
   "cell_type": "code",
   "execution_count": 5,
   "metadata": {
    "collapsed": true
   },
   "outputs": [],
   "source": [
    "\n",
    "with tf.variable_scope('Seq2seq'):\n",
    "\n",
    "    # Entrées dans l'encodeur\n",
    "    enc_inp = [tf.placeholder(tf.float32, shape=(None, input_dim),\n",
    "                              name=\"inp%i\" % t)\n",
    "               for t in range(seq_length)]\n",
    "\n",
    "    # Sorties attendues du décodeur\n",
    "    expected_sparse_output = [tf.placeholder(tf.float32, shape=(None, output_dim),\n",
    "                            name=\"expected_sparse_output%i\" % t)\n",
    "              for t in range(seq_length)]\n",
    "    \n",
    "    # Donner un symbole \"GO\" au décodeur\n",
    "    dec_inp = [tf.zeros_like(enc_inp[0], dtype=np.float32, name=\"GO\")] + enc_inp[:-1]\n",
    "\n",
    "    # Créer un nombre `layers_stacked_count` de RNN empilés\n",
    "    cells = []\n",
    "    for i in range(layers_stacked_count):\n",
    "        with tf.variable_scope('RNN_{}'.format(i)):\n",
    "            # GRU est similaire au LSTM, \n",
    "            # mais pas exactement pareil à l'intérieur: \n",
    "            cells.append(tf.nn.rnn_cell.GRUCell(hidden_dim))\n",
    "    cell = tf.nn.rnn_cell.MultiRNNCell(cells)\n",
    "    \n",
    "    dec_outputs, dec_memory = tf.nn.seq2seq.basic_rnn_seq2seq(\n",
    "        enc_inp, \n",
    "        dec_inp, \n",
    "        cell\n",
    "    )\n",
    "    \n",
    "    # Une dernière transformation linéaire à la sortie: \n",
    "    output_scale_factor = tf.Variable(3.0, name=\"Output_ScaleFactor\")\n",
    "    output_bias = tf.Variable(-1.5, name=\"Output_Bias\")\n",
    "    dec_outputs = [ output_scale_factor * tf.nn.sigmoid(output) + output_bias for output in dec_outputs]\n"
   ]
  },
  {
   "cell_type": "code",
   "execution_count": 6,
   "metadata": {
    "collapsed": false
   },
   "outputs": [],
   "source": [
    "\n",
    "# Training loss and optimizer\n",
    "\n",
    "with tf.variable_scope('Loss'):\n",
    "    # L2 loss\n",
    "    output_loss = 0\n",
    "    for _y, _Y in zip(dec_outputs, expected_sparse_output):\n",
    "        output_loss += tf.reduce_mean(tf.nn.l2_loss(_y - _Y))\n",
    "        \n",
    "    # L2 regularization \n",
    "    reg_loss = 0\n",
    "    for tf_var in tf.trainable_variables():\n",
    "        if not (\"Bias\" in tf_var.name or \"Output_\" in tf_var.name):\n",
    "            reg_loss += tf.reduce_mean(tf.nn.l2_loss(tf_var))\n",
    "            \n",
    "    loss = output_loss + lambda_l2_reg * reg_loss\n",
    "\n",
    "with tf.variable_scope('Optimizer'):\n",
    "    optimizer = tf.train.RMSPropOptimizer(learning_rate, decay=lr_decay, momentum=momentum)\n",
    "    train_op = optimizer.minimize(loss)\n"
   ]
  },
  {
   "cell_type": "code",
   "execution_count": 7,
   "metadata": {
    "collapsed": false
   },
   "outputs": [
    {
     "name": "stdout",
     "output_type": "stream",
     "text": [
      "Step 0/300, loss: 38.8384513855\n",
      "Step 10/300, loss: 19.5592193604\n",
      "Step 20/300, loss: 6.61626577377\n",
      "Step 30/300, loss: 3.06511211395\n",
      "Step 40/300, loss: 1.82426404953\n",
      "Step 50/300, loss: 1.22619497776\n",
      "Step 60/300, loss: 0.913633704185\n",
      "Step 70/300, loss: 1.12009239197\n",
      "Step 80/300, loss: 0.630489826202\n",
      "Step 90/300, loss: 0.55859375\n",
      "Step 100/300, loss: 0.500613033772\n",
      "Step 110/300, loss: 0.73316848278\n",
      "Step 120/300, loss: 0.399022102356\n",
      "Step 130/300, loss: 0.366254329681\n",
      "Step 140/300, loss: 0.32592600584\n",
      "Step 150/300, loss: 0.310336828232\n",
      "Step 160/300, loss: 0.308530062437\n",
      "Step 170/300, loss: 0.237408235669\n",
      "Step 180/300, loss: 0.48581930995\n",
      "Step 190/300, loss: 0.224515855312\n",
      "Step 200/300, loss: 0.184582442045\n",
      "Step 210/300, loss: 0.201388195157\n",
      "Step 220/300, loss: 0.376052886248\n",
      "Step 230/300, loss: 0.156198993325\n",
      "Step 240/300, loss: 0.169976904988\n",
      "Step 250/300, loss: 0.226530894637\n",
      "Step 260/300, loss: 0.27032494545\n",
      "Step 270/300, loss: 0.135500147939\n",
      "Step 280/300, loss: 0.12970739603\n",
      "Step 290/300, loss: 0.281635224819\n",
      "Step 300/300, loss: 0.140268117189\n",
      "Final loss: 0.140268117189\n"
     ]
    }
   ],
   "source": [
    "\n",
    "def generate_x_y_data(isTest=False, exercise=1):\n",
    "    \"\"\"\n",
    "    Simply returns data of shape: \n",
    "        (seq_lenght, batch_size, output_dim)\n",
    "    \n",
    "    X is a sine of domain 0.0*pi to 1.5*pi\n",
    "    Y is a sine of domain 1.5*pi to 3.0*pi\n",
    "    \n",
    "    To temporarily deal with the number of dimensions \n",
    "    \"\"\"\n",
    "    # Create the sine in x and it's continuation in y\n",
    "    x = np.sin(np.linspace(0.0*math.pi, 1.5*math.pi, seq_length))\n",
    "    y = np.sin(np.linspace(1.5*math.pi, 3.0*math.pi, seq_length))\n",
    "    \n",
    "    # Clone the sine for every input_dim. \n",
    "    # Normaly those dims would containt different signals \n",
    "    # happening at the same time of a single timestep of \n",
    "    # a single training example, such as other features of \n",
    "    # the signal such as various moving averages \n",
    "    x = np.array([x for i in range(input_dim)])\n",
    "    y = np.array([y for i in range(output_dim)])\n",
    "    x, y = x.T, y.T\n",
    "    \n",
    "    x = np.array([x]*batch_size) # simple for now: batch_size of 1\n",
    "    y = np.array([y]*batch_size)\n",
    "    # shape: (batch_size, seq_lenght, output_dim)\n",
    "    x = np.array(x).transpose((1, 0, 2))\n",
    "    y = np.array(y).transpose((1, 0, 2))\n",
    "    # shape: (seq_lenght, batch_size, output_dim)\n",
    "    \n",
    "    # print \"X_SHAPE: \" + str(x.shape)\n",
    "    return x, y\n",
    "\n",
    "def train_batch(batch_size):\n",
    "    \"\"\"\n",
    "    Training step: we optimize for every outputs Y at once, \n",
    "    feeding all inputs X\n",
    "    \n",
    "    I do not know yet how to deal with \n",
    "    the enc_inp tensor declared earlier\n",
    "    \"\"\"\n",
    "    X, Y = generate_x_y_data()\n",
    "\n",
    "    feed_dict = {\n",
    "        enc_inp[t]: X[t] for t in range(seq_length)\n",
    "    }\n",
    "    feed_dict.update({expected_sparse_output[t]: Y[t] for t in range(seq_length)})\n",
    "\n",
    "    _, loss_t = sess.run([train_op, loss], feed_dict)\n",
    "    return loss_t\n",
    "\n",
    "\n",
    "# Train\n",
    "train_losses = []\n",
    "\n",
    "sess.run(tf.global_variables_initializer())\n",
    "for t in range(nb_iters+1):\n",
    "    loss_t = train_batch(batch_size)\n",
    "    train_losses.append(loss_t)\n",
    "    if t % 10 == 0: \n",
    "        print \"Step {}/{}, loss: {}\".format(t, nb_iters, loss_t)\n",
    "\n",
    "print \"Final loss: {}\".format(loss_t)\n"
   ]
  },
  {
   "cell_type": "code",
   "execution_count": 8,
   "metadata": {
    "collapsed": false,
    "scrolled": true
   },
   "outputs": [
    {
     "data": {
      "image/png": "[encoded data removed]",
      "text/plain": [
       "<matplotlib.figure.Figure at 0x7f0a883d6950>"
      ]
     },
     "metadata": {},
     "output_type": "display_data"
    }
   ],
   "source": [
    "plt.figure(figsize=(12, 3))\n",
    "plt.plot(train_losses, label=\"Loss\")\n",
    "plt.title(\"Entrainement au cours du temps\")\n",
    "plt.legend(loc='best')\n",
    "plt.show()"
   ]
  },
  {
   "cell_type": "code",
   "execution_count": 9,
   "metadata": {
    "collapsed": false,
    "scrolled": false
   },
   "outputs": [
    {
     "data": {
      "image/png": "[encoded data removed]",
      "text/plain": [
       "<matplotlib.figure.Figure at 0x7f0a49f50d10>"
      ]
     },
     "metadata": {},
     "output_type": "display_data"
    }
   ],
   "source": [
    "# Test the training\n",
    "X, Y = generate_x_y_data()\n",
    "feed_dict = {\n",
    "    enc_inp[t]: X[t] for t in range(seq_length)\n",
    "}\n",
    "outputs = sess.run([dec_outputs], feed_dict)\n",
    "\n",
    "past = X[:,0,0]\n",
    "expected = Y[:,0,0]\n",
    "pred = np.array(outputs[0])[:,0,0]\n",
    "\n",
    "plt.figure(figsize=(12, 5))\n",
    "plt.plot(list(range(len(past))), past, \"b\", label=\"Valeurs precedentes\")\n",
    "plt.plot(range(len(past), len(expected)+len(past)), expected, \"--b\", label=\"Vraie valeurs futures\")\n",
    "plt.plot(range(len(past), len(pred)+len(past)), pred, \"--r\", label=\"Predictions\")\n",
    "# plt.plot(pred)\n",
    "plt.legend(loc='best')\n",
    "plt.title(\"Predictions vs vraies valeurs\")\n",
    "plt.show()"
   ]
  },
  {
   "cell_type": "code",
   "execution_count": 10,
   "metadata": {
    "collapsed": false
   },
   "outputs": [
    {
     "name": "stdout",
     "output_type": "stream",
     "text": [
      "Seq2seq/basic_rnn_seq2seq/RNN/MultiRNNCell/Cell0/GRUCell/Gates/Linear/Matrix:0\n",
      "Seq2seq/basic_rnn_seq2seq/RNN/MultiRNNCell/Cell0/GRUCell/Gates/Linear/Bias:0\n",
      "Seq2seq/basic_rnn_seq2seq/RNN/MultiRNNCell/Cell0/GRUCell/Candidate/Linear/Matrix:0\n",
      "Seq2seq/basic_rnn_seq2seq/RNN/MultiRNNCell/Cell0/GRUCell/Candidate/Linear/Bias:0\n",
      "Seq2seq/basic_rnn_seq2seq/RNN/MultiRNNCell/Cell1/GRUCell/Gates/Linear/Matrix:0\n",
      "Seq2seq/basic_rnn_seq2seq/RNN/MultiRNNCell/Cell1/GRUCell/Gates/Linear/Bias:0\n",
      "Seq2seq/basic_rnn_seq2seq/RNN/MultiRNNCell/Cell1/GRUCell/Candidate/Linear/Matrix:0\n",
      "Seq2seq/basic_rnn_seq2seq/RNN/MultiRNNCell/Cell1/GRUCell/Candidate/Linear/Bias:0\n",
      "Seq2seq/basic_rnn_seq2seq/rnn_decoder/MultiRNNCell/Cell0/GRUCell/Gates/Linear/Matrix:0\n",
      "Seq2seq/basic_rnn_seq2seq/rnn_decoder/MultiRNNCell/Cell0/GRUCell/Gates/Linear/Bias:0\n",
      "Seq2seq/basic_rnn_seq2seq/rnn_decoder/MultiRNNCell/Cell0/GRUCell/Candidate/Linear/Matrix:0\n",
      "Seq2seq/basic_rnn_seq2seq/rnn_decoder/MultiRNNCell/Cell0/GRUCell/Candidate/Linear/Bias:0\n",
      "Seq2seq/basic_rnn_seq2seq/rnn_decoder/MultiRNNCell/Cell1/GRUCell/Gates/Linear/Matrix:0\n",
      "Seq2seq/basic_rnn_seq2seq/rnn_decoder/MultiRNNCell/Cell1/GRUCell/Gates/Linear/Bias:0\n",
      "Seq2seq/basic_rnn_seq2seq/rnn_decoder/MultiRNNCell/Cell1/GRUCell/Candidate/Linear/Matrix:0\n",
      "Seq2seq/basic_rnn_seq2seq/rnn_decoder/MultiRNNCell/Cell1/GRUCell/Candidate/Linear/Bias:0\n",
      "Seq2seq/Output_ScaleFactor:0\n",
      "Seq2seq/Output_Bias:0\n"
     ]
    }
   ],
   "source": [
    "for i in tf.trainable_variables():\n",
    "    print i.name"
   ]
  },
  {
   "cell_type": "code",
   "execution_count": null,
   "metadata": {
    "collapsed": false
   },
   "outputs": [],
   "source": []
  }
 ],
 "metadata": {
  "kernelspec": {
   "display_name": "Python 2",
   "language": "python",
   "name": "python2"
  },
  "language_info": {
   "codemirror_mode": {
    "name": "ipython",
    "version": 2
   },
   "file_extension": ".py",
   "mimetype": "text/x-python",
   "name": "python",
   "nbconvert_exporter": "python",
   "pygments_lexer": "ipython2",
   "version": "2.7.6"
  }
 },
 "nbformat": 4,
 "nbformat_minor": 0
}
